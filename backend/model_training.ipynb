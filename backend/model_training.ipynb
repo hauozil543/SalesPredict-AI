{
 "cells": [
  {
   "cell_type": "code",
   "execution_count": 47,
   "id": "71f4fad4",
   "metadata": {},
   "outputs": [],
   "source": [
    "# Cell 1: Import tất cả các thư viện cần thiết\n",
    "import pandas as pd\n",
    "import torch\n",
    "import torch.nn as nn\n",
    "import torch.optim as optim\n",
    "from torch.utils.data import Dataset, DataLoader\n",
    "from torch.cuda.amp import autocast, GradScaler\n",
    "from sklearn.metrics import mean_squared_error, mean_absolute_error\n",
    "import numpy as np\n",
    "from torch.amp import autocast "
   ]
  },
  {
   "cell_type": "code",
   "execution_count": 48,
   "id": "4995a5ae",
   "metadata": {},
   "outputs": [
    {
     "name": "stdout",
     "output_type": "stream",
     "text": [
      "PyTorch version: 2.6.0+cu118\n",
      "CUDA available: NVIDIA GeForce RTX 3050 Laptop GPU\n"
     ]
    }
   ],
   "source": [
    "# Cell 2: Kiểm tra phiên bản PyTorch\n",
    "print(f\"PyTorch version: {torch.__version__}\")\n",
    "if torch.cuda.is_available():\n",
    "    print(f\"CUDA available: {torch.cuda.get_device_name(0)}\")\n",
    "else:\n",
    "    print(\"CUDA not available, using CPU\")"
   ]
  },
  {
   "cell_type": "code",
   "execution_count": 49,
   "id": "f7bf4d12",
   "metadata": {},
   "outputs": [],
   "source": [
    "# Cell 2: Định nghĩa lớp Dataset (tái sử dụng từ dataset_dataloader.ipynb)\n",
    "class M5MultiDataset(Dataset):\n",
    "    def __init__(self, data, feature_cols, window_size):\n",
    "        self.data = data\n",
    "        self.cols = feature_cols\n",
    "        self.win = window_size\n",
    "\n",
    "    def __len__(self):\n",
    "        return len(self.data) - self.win\n",
    "\n",
    "    def __getitem__(self, idx):\n",
    "        slice_ = self.data.iloc[idx:idx+self.win]\n",
    "        X_num = slice_[self.cols].values.astype('float32')  # (win, num_features)\n",
    "        item_idx = slice_['item_idx'].values.astype('int64')  # (win,)\n",
    "        store_idx = slice_['store_idx'].values.astype('int64')  # (win,)\n",
    "        y = self.data['sales'].iloc[idx+self.win].astype('float32')\n",
    "        return (\n",
    "            torch.tensor(X_num),  # (win, num_features)\n",
    "            torch.tensor(item_idx),  # (win,)\n",
    "            torch.tensor(store_idx)  # (win,)\n",
    "        ), torch.tensor(y)"
   ]
  },
  {
   "cell_type": "code",
   "execution_count": 50,
   "id": "79f87296",
   "metadata": {},
   "outputs": [],
   "source": [
    "# Cell 3: Định nghĩa lớp mô hình LSTMEmbForecast\n",
    "class LSTMEmbForecast(nn.Module):\n",
    "    def __init__(self, n_items, n_stores, embed_dim, num_feats, hidden_size):\n",
    "        super().__init__()\n",
    "        self.item_emb = nn.Embedding(n_items, embed_dim)\n",
    "        self.store_emb = nn.Embedding(n_stores, embed_dim)\n",
    "        self.lstm = nn.LSTM(\n",
    "            input_size=num_feats + 2*embed_dim,\n",
    "            hidden_size=hidden_size,\n",
    "            num_layers=2,\n",
    "            batch_first=True,\n",
    "            dropout=0.2\n",
    "        )\n",
    "        self.fc = nn.Linear(hidden_size, 1)\n",
    "\n",
    "    def forward(self, X_num, X_item, X_store):\n",
    "        batch_size, seq_len, _ = X_num.size()\n",
    "        emb_i = self.item_emb(X_item)  # (B, T, E)\n",
    "        emb_s = self.store_emb(X_store)  # (B, T, E)\n",
    "        x = torch.cat([X_num, emb_i, emb_s], dim=-1)  # (B, T, F+2E)\n",
    "        out, _ = self.lstm(x)\n",
    "        out = out[:, -1, :]  # Lấy output cuối cùng: (B, hidden_size)\n",
    "        return self.fc(out).squeeze()"
   ]
  },
  {
   "cell_type": "code",
   "execution_count": 51,
   "id": "c0bdccf9",
   "metadata": {},
   "outputs": [
    {
     "name": "stdout",
     "output_type": "stream",
     "text": [
      "Recreated train_loader and val_loader\n"
     ]
    },
    {
     "name": "stderr",
     "output_type": "stream",
     "text": [
      "C:\\Users\\Ho Hau\\AppData\\Local\\Temp\\ipykernel_24320\\1273609222.py:9: DtypeWarning: Columns (12,13) have mixed types. Specify dtype option on import or set low_memory=False.\n",
      "  df = pd.read_csv('processed_data.csv')\n"
     ]
    }
   ],
   "source": [
    "# Cell 4: Đọc thông tin từ model_params.txt và tái tạo DataLoader\n",
    "with open('model_params.txt', 'r') as f:\n",
    "    lines = f.readlines()\n",
    "    num_items = int(lines[0].split(': ')[1])\n",
    "    num_stores = int(lines[1].split(': ')[1])\n",
    "    feature_cols = eval(lines[2].split(': ')[1])\n",
    "\n",
    "# Tái tạo train_loader và val_loader\n",
    "df = pd.read_csv('processed_data.csv')\n",
    "split = int(len(df) * 0.8)\n",
    "df_train, df_val = df.iloc[:split], df.iloc[split:]\n",
    "train_ds = M5MultiDataset(df_train, feature_cols, window_size=28)\n",
    "val_ds = M5MultiDataset(df_val, feature_cols, window_size=28)\n",
    "train_loader = DataLoader(train_ds, batch_size=64, shuffle=True)\n",
    "val_loader = DataLoader(val_ds, batch_size=64)\n",
    "print('Recreated train_loader and val_loader')"
   ]
  },
  {
   "cell_type": "code",
   "execution_count": 52,
   "id": "159b254d",
   "metadata": {},
   "outputs": [
    {
     "name": "stderr",
     "output_type": "stream",
     "text": [
      "C:\\Users\\Ho Hau\\AppData\\Local\\Temp\\ipykernel_24320\\3332628159.py:12: FutureWarning: `torch.cuda.amp.GradScaler(args...)` is deprecated. Please use `torch.amp.GradScaler('cuda', args...)` instead.\n",
      "  scaler = GradScaler()\n"
     ]
    }
   ],
   "source": [
    "# Cell 5: Khởi tạo mô hình, hàm mất mát, và optimizer\n",
    "device = torch.device('cuda' if torch.cuda.is_available() else 'cpu')\n",
    "model = LSTMEmbForecast(\n",
    "    n_items=num_items,\n",
    "    n_stores=num_stores,\n",
    "    embed_dim=16,\n",
    "    num_feats=len(feature_cols),\n",
    "    hidden_size=128\n",
    ").to(device)\n",
    "criterion = nn.MSELoss()\n",
    "optimizer = optim.Adam(model.parameters(), lr=1e-3)\n",
    "scaler = GradScaler()"
   ]
  },
  {
   "cell_type": "code",
   "execution_count": 53,
   "id": "69e97dbb",
   "metadata": {},
   "outputs": [
    {
     "name": "stdout",
     "output_type": "stream",
     "text": [
      "CUDA available: True\n"
     ]
    }
   ],
   "source": [
    "print(f\"CUDA available: {torch.cuda.is_available()}\")"
   ]
  },
  {
   "cell_type": "code",
   "execution_count": 54,
   "id": "04ac6e52",
   "metadata": {},
   "outputs": [
    {
     "name": "stderr",
     "output_type": "stream",
     "text": [
      "C:\\Users\\Ho Hau\\AppData\\Local\\Temp\\ipykernel_24320\\2433662127.py:1: FutureWarning: `torch.cuda.amp.GradScaler(args...)` is deprecated. Please use `torch.amp.GradScaler('cuda', args...)` instead.\n",
      "  scaler = GradScaler()\n"
     ]
    }
   ],
   "source": [
    "scaler = GradScaler()\n",
    "\n",
    "def train_model(model, train_loader, val_loader, num_epochs, device):\n",
    "    model.to(device)\n",
    "    for epoch in range(num_epochs):\n",
    "        model.train()\n",
    "        total_loss = 0\n",
    "        for (X_num, X_item, X_store), y in train_loader:\n",
    "            Xn, Xi, Xs, y = X_num.to(device), X_item.to(device), X_store.to(device), y.to(device)\n",
    "            optimizer.zero_grad()\n",
    "            with autocast(device_type='cuda'):  # Dùng đúng cú pháp mới\n",
    "                preds = model(Xn, Xi, Xs)\n",
    "                loss = criterion(preds, y)\n",
    "            scaler.scale(loss).backward()\n",
    "            scaler.step(optimizer)\n",
    "            scaler.update()\n",
    "            total_loss += loss.item()\n",
    "        \n",
    "        # Validation\n",
    "        model.eval()\n",
    "        val_loss = 0\n",
    "        predictions, actuals = [], []\n",
    "        with torch.no_grad():\n",
    "            for (Xn, Xi, Xs), y in val_loader:\n",
    "                Xn, Xi, Xs, y = Xn.to(device), Xi.to(device), Xs.to(device), y.to(device)\n",
    "                with autocast(device_type='cuda'):\n",
    "                    preds = model(Xn, Xi, Xs)\n",
    "                    loss = criterion(preds, y)\n",
    "                val_loss += loss.item()\n",
    "                predictions.extend(preds.cpu().numpy())\n",
    "                actuals.extend(y.cpu().numpy())\n",
    "        \n",
    "        # Đánh giá\n",
    "        rmse = np.sqrt(mean_squared_error(actuals, predictions))\n",
    "        mae = mean_absolute_error(actuals, predictions)\n",
    "        print(f\"Epoch {epoch+1}/{num_epochs} - Train Loss: {total_loss/len(train_loader):.4f}, \"\n",
    "              f\"Val Loss: {val_loss/len(val_loader):.4f}, RMSE: {rmse:.4f}, MAE: {mae:.4f}\")"
   ]
  },
  {
   "cell_type": "code",
   "execution_count": 55,
   "id": "9ccb4e53",
   "metadata": {},
   "outputs": [
    {
     "name": "stdout",
     "output_type": "stream",
     "text": [
      "Epoch 1/20 - Train Loss: 0.0055, Val Loss: 0.0023, RMSE: 0.0479, MAE: 0.0356\n",
      "Epoch 2/20 - Train Loss: 0.0038, Val Loss: 0.0019, RMSE: 0.0440, MAE: 0.0317\n",
      "Epoch 3/20 - Train Loss: 0.0033, Val Loss: 0.0017, RMSE: 0.0410, MAE: 0.0297\n",
      "Epoch 4/20 - Train Loss: 0.0030, Val Loss: 0.0018, RMSE: 0.0424, MAE: 0.0298\n",
      "Epoch 5/20 - Train Loss: 0.0029, Val Loss: 0.0016, RMSE: 0.0405, MAE: 0.0286\n",
      "Epoch 6/20 - Train Loss: 0.0029, Val Loss: 0.0014, RMSE: 0.0380, MAE: 0.0277\n",
      "Epoch 7/20 - Train Loss: 0.0029, Val Loss: 0.0014, RMSE: 0.0372, MAE: 0.0265\n",
      "Epoch 8/20 - Train Loss: 0.0027, Val Loss: 0.0015, RMSE: 0.0389, MAE: 0.0271\n",
      "Epoch 9/20 - Train Loss: 0.0027, Val Loss: 0.0016, RMSE: 0.0396, MAE: 0.0291\n",
      "Epoch 10/20 - Train Loss: 0.0027, Val Loss: 0.0015, RMSE: 0.0389, MAE: 0.0270\n",
      "Epoch 11/20 - Train Loss: 0.0027, Val Loss: 0.0014, RMSE: 0.0374, MAE: 0.0264\n",
      "Epoch 12/20 - Train Loss: 0.0026, Val Loss: 0.0016, RMSE: 0.0395, MAE: 0.0283\n",
      "Epoch 13/20 - Train Loss: 0.0026, Val Loss: 0.0013, RMSE: 0.0361, MAE: 0.0256\n",
      "Epoch 14/20 - Train Loss: 0.0025, Val Loss: 0.0013, RMSE: 0.0363, MAE: 0.0256\n",
      "Epoch 15/20 - Train Loss: 0.0025, Val Loss: 0.0013, RMSE: 0.0354, MAE: 0.0251\n",
      "Epoch 16/20 - Train Loss: 0.0025, Val Loss: 0.0013, RMSE: 0.0363, MAE: 0.0257\n",
      "Epoch 17/20 - Train Loss: 0.0025, Val Loss: 0.0015, RMSE: 0.0387, MAE: 0.0282\n",
      "Epoch 18/20 - Train Loss: 0.0026, Val Loss: 0.0012, RMSE: 0.0353, MAE: 0.0251\n",
      "Epoch 19/20 - Train Loss: 0.0024, Val Loss: 0.0012, RMSE: 0.0353, MAE: 0.0252\n",
      "Epoch 20/20 - Train Loss: 0.0023, Val Loss: 0.0015, RMSE: 0.0385, MAE: 0.0267\n"
     ]
    }
   ],
   "source": [
    "# Cell 7: Huấn luyện mô hình\n",
    "train_model(model, train_loader, val_loader, num_epochs=20, device=device)"
   ]
  },
  {
   "cell_type": "code",
   "execution_count": 56,
   "id": "9b2cc84b",
   "metadata": {},
   "outputs": [
    {
     "name": "stdout",
     "output_type": "stream",
     "text": [
      "Model saved to 'lstm_forecast.pth'\n"
     ]
    }
   ],
   "source": [
    "# Cell 8: Lưu mô hình đã huấn luyện\n",
    "torch.save(model.state_dict(), 'lstm_forecast.pth')\n",
    "print(\"Model saved to 'lstm_forecast.pth'\")"
   ]
  }
 ],
 "metadata": {
  "kernelspec": {
   "display_name": "venv",
   "language": "python",
   "name": "python3"
  },
  "language_info": {
   "codemirror_mode": {
    "name": "ipython",
    "version": 3
   },
   "file_extension": ".py",
   "mimetype": "text/x-python",
   "name": "python",
   "nbconvert_exporter": "python",
   "pygments_lexer": "ipython3",
   "version": "3.12.0"
  }
 },
 "nbformat": 4,
 "nbformat_minor": 5
}
