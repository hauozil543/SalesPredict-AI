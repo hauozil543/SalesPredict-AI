{
 "cells": [
  {
   "cell_type": "code",
   "execution_count": 23,
   "id": "23101dbd",
   "metadata": {},
   "outputs": [],
   "source": [
    "# Cell 1: Import tất cả các thư viện cần thiết\n",
    "import pandas as pd\n",
    "import torch\n",
    "from torch.utils.data import Dataset, DataLoader"
   ]
  },
  {
   "cell_type": "code",
   "execution_count": 24,
   "id": "568d4488",
   "metadata": {},
   "outputs": [],
   "source": [
    "# Cell 2: Định nghĩa lớp Dataset\n",
    "class M5MultiDataset(Dataset):\n",
    "    def __init__(self, data, feature_cols, window_size):\n",
    "        self.data = data\n",
    "        self.cols = feature_cols\n",
    "        self.win = window_size\n",
    "\n",
    "    def __len__(self):\n",
    "        return len(self.data) - self.win\n",
    "\n",
    "    def __getitem__(self, idx):\n",
    "        slice_ = self.data.iloc[idx:idx+self.win]\n",
    "        X_num = slice_[self.cols].values.astype('float32')  # (win, num_features)\n",
    "        item_idx = slice_['item_idx'].values.astype('int64')  # (win,)\n",
    "        store_idx = slice_['store_idx'].values.astype('int64')  # (win,)\n",
    "        y = self.data['sales'].iloc[idx+self.win].astype('float32')\n",
    "        return (\n",
    "            torch.tensor(X_num),  # (win, num_features)\n",
    "            torch.tensor(item_idx),  # (win,)\n",
    "            torch.tensor(store_idx)  # (win,)\n",
    "        ), torch.tensor(y)"
   ]
  },
  {
   "cell_type": "code",
   "execution_count": 25,
   "id": "47130e1d",
   "metadata": {},
   "outputs": [
    {
     "name": "stderr",
     "output_type": "stream",
     "text": [
      "C:\\Users\\Ho Hau\\AppData\\Local\\Temp\\ipykernel_14768\\2012717124.py:2: DtypeWarning: Columns (12,13) have mixed types. Specify dtype option on import or set low_memory=False.\n",
      "  df = pd.read_csv('processed_data.csv')\n"
     ]
    }
   ],
   "source": [
    "# Cell 3: Đọc dữ liệu đã xử lý\n",
    "df = pd.read_csv('processed_data.csv')"
   ]
  },
  {
   "cell_type": "code",
   "execution_count": 26,
   "id": "21263ec2",
   "metadata": {},
   "outputs": [],
   "source": [
    "# Cell 4: Định nghĩa feature columns\n",
    "FEATURE_COLS = [\n",
    "    'sell_price', 'snap_CA', 'snap_TX', 'snap_WI',\n",
    "] + [f'sales_lag_{l}' for l in (7, 14, 28)] + ['rolling_mean_7'] + \\\n",
    "[c for c in df.columns if c.startswith('evt_')]"
   ]
  },
  {
   "cell_type": "code",
   "execution_count": 27,
   "id": "3d7cab03",
   "metadata": {},
   "outputs": [],
   "source": [
    "# Cell 5: Lấy số lượng item và store\n",
    "num_items = df['item_idx'].nunique()\n",
    "num_stores = df['store_idx'].nunique()\n"
   ]
  },
  {
   "cell_type": "code",
   "execution_count": 28,
   "id": "71c567bc",
   "metadata": {},
   "outputs": [],
   "source": [
    "# Cell 6: Chia train/val và tạo DataLoader\n",
    "split = int(len(df) * 0.8)\n",
    "df_train, df_val = df.iloc[:split], df.iloc[split:]\n",
    "train_ds = M5MultiDataset(df_train, FEATURE_COLS, window_size=28)\n",
    "val_ds = M5MultiDataset(df_val, FEATURE_COLS, window_size=28)\n",
    "train_loader = DataLoader(train_ds, batch_size=64, shuffle=True)\n",
    "val_loader = DataLoader(val_ds, batch_size=64)"
   ]
  },
  {
   "cell_type": "code",
   "execution_count": 29,
   "id": "48d09e81",
   "metadata": {},
   "outputs": [
    {
     "name": "stdout",
     "output_type": "stream",
     "text": [
      "Saved num_items, num_stores, and feature_cols to model_params.txt\n"
     ]
    }
   ],
   "source": [
    "# Cell 7: Lưu thông tin num_items, num_stores, feature_cols\n",
    "with open('model_params.txt', 'w') as f:\n",
    "    f.write(f'num_items: {num_items}\\n')\n",
    "    f.write(f'num_stores: {num_stores}\\n')\n",
    "    f.write(f'feature_cols: {FEATURE_COLS}\\n')\n",
    "print('Saved num_items, num_stores, and feature_cols to model_params.txt')"
   ]
  }
 ],
 "metadata": {
  "kernelspec": {
   "display_name": "venv",
   "language": "python",
   "name": "python3"
  },
  "language_info": {
   "codemirror_mode": {
    "name": "ipython",
    "version": 3
   },
   "file_extension": ".py",
   "mimetype": "text/x-python",
   "name": "python",
   "nbconvert_exporter": "python",
   "pygments_lexer": "ipython3",
   "version": "3.12.0"
  }
 },
 "nbformat": 4,
 "nbformat_minor": 5
}
