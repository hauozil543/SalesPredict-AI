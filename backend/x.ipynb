{
 "cells": [
  {
   "cell_type": "code",
   "execution_count": 1,
   "id": "fae54a41",
   "metadata": {},
   "outputs": [
    {
     "name": "stdout",
     "output_type": "stream",
     "text": [
      "Dữ liệu đã được tải thành công!\n",
      "        date     item_id store_id state_id  sales  sell_price cat_id\n",
      "0 2013-01-01  HOBBIES_1_     CA_1       CA      0        0.00    NaN\n",
      "1 2013-01-01  HOBBIES_1_     CA_1       CA      1        3.97    NaN\n",
      "2 2013-01-01  HOBBIES_1_     CA_1       CA      0        0.00    NaN\n",
      "3 2013-01-01  HOBBIES_1_     CA_1       CA      0        4.34    NaN\n",
      "4 2013-01-01  HOBBIES_1_     CA_1       CA      1        3.08    NaN\n",
      "sales_raw shape: (14757160, 7)\n"
     ]
    }
   ],
   "source": [
    "import pandas as pd\n",
    "from sqlalchemy import create_engine\n",
    "\n",
    "# Kết nối PostgreSQL\n",
    "DB_CONFIG = {\n",
    "    'dbname': 'm5_data',\n",
    "    'user': 'postgres',\n",
    "    'password': 'H30012003h',\n",
    "    'host': 'localhost',\n",
    "    'port': '5432'\n",
    "}\n",
    "engine = create_engine(f\"postgresql://{DB_CONFIG['user']}:{DB_CONFIG['password']}@{DB_CONFIG['host']}:{DB_CONFIG['port']}/{DB_CONFIG['dbname']}\")\n",
    "\n",
    "# Truy vấn dữ liệu từ bảng sales_raw\n",
    "query = \"\"\"\n",
    "SELECT date, item_id, store_id, state_id, sales, sell_price\n",
    "FROM sales_raw\n",
    "WHERE state_id = 'CA'\n",
    "AND date BETWEEN '2013-01-01' AND '2016-05-22';\n",
    "\"\"\"\n",
    "sales_raw = pd.read_sql(query, engine)\n",
    "\n",
    "# Ghép cat_id từ sales_train_validation.csv\n",
    "sales_train = pd.read_csv('C:/Users/Ho Hau/Downloads/M5/data/raw/sales_train_validation.csv')\n",
    "sales_train = sales_train[['item_id', 'cat_id']]\n",
    "sales_raw = sales_raw.merge(sales_train, on='item_id', how='left')\n",
    "\n",
    "# Chuyển đổi date thành định dạng datetime\n",
    "sales_raw['date'] = pd.to_datetime(sales_raw['date'])\n",
    "\n",
    "print(\"Dữ liệu đã được tải thành công!\")\n",
    "print(sales_raw.head())\n",
    "print(f\"sales_raw shape: {sales_raw.shape}\")"
   ]
  },
  {
   "cell_type": "code",
   "execution_count": 2,
   "id": "fb2f3e1c",
   "metadata": {},
   "outputs": [
    {
     "name": "stdout",
     "output_type": "stream",
     "text": [
      "Tổng doanh số theo cửa hàng:\n",
      "  store_id    sales\n",
      "0     CA_1  5230991\n",
      "1     CA_2  3826908\n",
      "2     CA_3  7567647\n",
      "3     CA_4  2837712\n",
      "\n",
      "Tổng doanh thu theo cửa hàng:\n",
      "  store_id      revenue\n",
      "0     CA_1  15680193.86\n",
      "1     CA_2  11933978.59\n",
      "2     CA_3  22281157.83\n",
      "3     CA_4   8639415.55\n",
      "\n",
      "Tổng doanh số theo chủ đề mặt hàng:\n",
      "Empty DataFrame\n",
      "Columns: [cat_id, sales]\n",
      "Index: []\n",
      "\n",
      "Tổng doanh thu theo chủ đề mặt hàng:\n",
      "Empty DataFrame\n",
      "Columns: [cat_id, revenue]\n",
      "Index: []\n",
      "\n",
      "Doanh số theo cửa hàng và chủ đề mặt hàng:\n",
      "Empty DataFrame\n",
      "Columns: []\n",
      "Index: []\n",
      "\n",
      "Doanh thu theo cửa hàng và chủ đề mặt hàng:\n",
      "Empty DataFrame\n",
      "Columns: []\n",
      "Index: []\n"
     ]
    }
   ],
   "source": [
    "# Tính tổng doanh số và doanh thu\n",
    "sales_raw['revenue'] = sales_raw['sales'] * sales_raw['sell_price']\n",
    "sales_by_store = sales_raw.groupby('store_id')['sales'].sum().reset_index()\n",
    "revenue_by_store = sales_raw.groupby('store_id')['revenue'].sum().reset_index()\n",
    "sales_by_category = sales_raw.groupby('cat_id')['sales'].sum().reset_index()\n",
    "revenue_by_category = sales_raw.groupby('cat_id')['revenue'].sum().reset_index()\n",
    "\n",
    "# So sánh chi tiết theo cửa hàng và chủ đề\n",
    "sales_by_store_category = sales_raw.groupby(['store_id', 'cat_id'])['sales'].sum().unstack(fill_value=0)\n",
    "revenue_by_store_category = sales_raw.groupby(['store_id', 'cat_id'])['revenue'].sum().unstack(fill_value=0)\n",
    "\n",
    "print(\"Tổng doanh số theo cửa hàng:\")\n",
    "print(sales_by_store)\n",
    "print(\"\\nTổng doanh thu theo cửa hàng:\")\n",
    "print(revenue_by_store)\n",
    "print(\"\\nTổng doanh số theo chủ đề mặt hàng:\")\n",
    "print(sales_by_category)\n",
    "print(\"\\nTổng doanh thu theo chủ đề mặt hàng:\")\n",
    "print(revenue_by_category)\n",
    "print(\"\\nDoanh số theo cửa hàng và chủ đề mặt hàng:\")\n",
    "print(sales_by_store_category)\n",
    "print(\"\\nDoanh thu theo cửa hàng và chủ đề mặt hàng:\")\n",
    "print(revenue_by_store_category)"
   ]
  },
  {
   "cell_type": "code",
   "execution_count": 3,
   "id": "9491440a",
   "metadata": {},
   "outputs": [
    {
     "data": {
      "image/png": "[encoded data removed]",
      "text/plain": [
       "<Figure size 1200x600 with 1 Axes>"
      ]
     },
     "metadata": {},
     "output_type": "display_data"
    }
   ],
   "source": [
    "import matplotlib.pyplot as plt\n",
    "import seaborn as sns\n",
    "\n",
    "# Tính doanh số trung bình hàng tháng\n",
    "sales_raw['month'] = sales_raw['date'].dt.to_period('M')\n",
    "monthly_sales = sales_raw.groupby(['store_id', 'cat_id', 'month'])['sales'].sum().reset_index()\n",
    "\n",
    "# Biểu đồ xu hướng\n",
    "plt.figure(figsize=(12, 6))\n",
    "sns.lineplot(data=monthly_sales, x='month', y='sales', hue='store_id', style='cat_id')\n",
    "plt.title(\"Xu hướng doanh số theo tháng cho từng cửa hàng và chủ đề mặt hàng\")\n",
    "plt.xticks(rotation=45)\n",
    "plt.show()"
   ]
  }
 ],
 "metadata": {
  "kernelspec": {
   "display_name": "venv",
   "language": "python",
   "name": "python3"
  },
  "language_info": {
   "codemirror_mode": {
    "name": "ipython",
    "version": 3
   },
   "file_extension": ".py",
   "mimetype": "text/x-python",
   "name": "python",
   "nbconvert_exporter": "python",
   "pygments_lexer": "ipython3",
   "version": "3.12.0"
  }
 },
 "nbformat": 4,
 "nbformat_minor": 5
}
