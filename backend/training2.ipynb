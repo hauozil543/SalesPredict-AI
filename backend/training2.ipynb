{
 "cells": [
  {
   "cell_type": "markdown",
   "id": "d259e5cc",
   "metadata": {},
   "source": [
    "Áp dụng early stopping và tăng regularization để ổn định Val Loss."
   ]
  },
  {
   "cell_type": "code",
   "execution_count": 1,
   "id": "b515a0ba",
   "metadata": {},
   "outputs": [],
   "source": [
    "# Cell 1: Import tất cả các thư viện cần thiết\n",
    "import pandas as pd\n",
    "import torch\n",
    "import torch.nn as nn\n",
    "import torch.optim as optim\n",
    "from torch.utils.data import Dataset, DataLoader\n",
    "from torch.amp import autocast, GradScaler\n",
    "from sklearn.metrics import mean_squared_error, mean_absolute_error\n",
    "import numpy as np"
   ]
  },
  {
   "cell_type": "code",
   "execution_count": 2,
   "id": "1ffbbbb4",
   "metadata": {},
   "outputs": [],
   "source": [
    "# Cell 3: Định nghĩa lớp Dataset (tái sử dụng từ dataset_dataloader.ipynb)\n",
    "class M5MultiDataset(Dataset):\n",
    "    def __init__(self, data, feature_cols, window_size):\n",
    "        self.data = data\n",
    "        self.cols = feature_cols\n",
    "        self.win = window_size\n",
    "\n",
    "    def __len__(self):\n",
    "        return len(self.data) - self.win\n",
    "\n",
    "    def __getitem__(self, idx):\n",
    "        slice_ = self.data.iloc[idx:idx+self.win]\n",
    "        X_num = slice_[self.cols].values.astype('float32')  # (win, num_features)\n",
    "        item_idx = slice_['item_idx'].values.astype('int64')  # (win,)\n",
    "        store_idx = slice_['store_idx'].values.astype('int64')  # (win,)\n",
    "        y = self.data['sales'].iloc[idx+self.win].astype('float32')\n",
    "        return (\n",
    "            torch.tensor(X_num),  # (win, num_features)\n",
    "            torch.tensor(item_idx),  # (win,)\n",
    "            torch.tensor(store_idx)  # (win,)\n",
    "        ), torch.tensor(y)"
   ]
  },
  {
   "cell_type": "code",
   "execution_count": 3,
   "id": "80c775ab",
   "metadata": {},
   "outputs": [],
   "source": [
    "# Cell 4: Định nghĩa lớp mô hình LSTMEmbForecast\n",
    "class LSTMEmbForecast(nn.Module):\n",
    "    def __init__(self, n_items, n_stores, embed_dim, num_feats, hidden_size):\n",
    "        super().__init__()\n",
    "        self.item_emb = nn.Embedding(n_items, embed_dim)\n",
    "        self.store_emb = nn.Embedding(n_stores, embed_dim)\n",
    "        self.lstm = nn.LSTM(\n",
    "            input_size=num_feats + 2*embed_dim,\n",
    "            hidden_size=hidden_size,\n",
    "            num_layers=2,\n",
    "            batch_first=True,\n",
    "            dropout=0.3  # Tăng dropout từ 0.2 lên 0.3\n",
    "        )\n",
    "        self.fc = nn.Linear(hidden_size, 1)\n",
    "\n",
    "    def forward(self, X_num, X_item, X_store):\n",
    "        batch_size, seq_len, _ = X_num.size()\n",
    "        emb_i = self.item_emb(X_item)  # (B, T, E)\n",
    "        emb_s = self.store_emb(X_store)  # (B, T, E)\n",
    "        x = torch.cat([X_num, emb_i, emb_s], dim=-1)  # (B, T, F+2E)\n",
    "        out, _ = self.lstm(x)\n",
    "        out = out[:, -1, :]  # Lấy output cuối cùng: (B, hidden_size)\n",
    "        return self.fc(out).squeeze()"
   ]
  },
  {
   "cell_type": "code",
   "execution_count": 4,
   "id": "112acb19",
   "metadata": {},
   "outputs": [
    {
     "name": "stdout",
     "output_type": "stream",
     "text": [
      "Recreated train_loader and val_loader with optimized memory usage\n"
     ]
    }
   ],
   "source": [
    "# Cell 5: Đọc thông tin từ model_params.txt và tái tạo DataLoader\n",
    "import pandas as pd\n",
    "import torch\n",
    "from torch.utils.data import DataLoader, Dataset\n",
    "\n",
    "# Đọc thông tin từ model_params.txt\n",
    "with open('model_params.txt', 'r') as f:\n",
    "    lines = f.readlines()\n",
    "    num_items = int(lines[0].split(': ')[1])\n",
    "    num_stores = int(lines[1].split(': ')[1])\n",
    "    feature_cols = eval(lines[2].split(': ')[1])\n",
    "\n",
    "# Xác định kiểu dữ liệu nhẹ hơn để giảm tải RAM\n",
    "dtypes = {\n",
    "    'sales': 'float32',\n",
    "    'sell_price': 'float32',\n",
    "    'sales_lag_7': 'float32',\n",
    "    'sales_lag_14': 'float32',\n",
    "    'sales_lag_28': 'float32',\n",
    "    'rolling_mean_7': 'float32',\n",
    "    'item_idx': 'int32',\n",
    "    'store_idx': 'int32',\n",
    "    'day': 'int8',\n",
    "    'month': 'int8',\n",
    "    'weekday': 'int8',\n",
    "    'week': 'int8',\n",
    "    'snap_CA': 'int8',\n",
    "    'snap_TX': 'int8',\n",
    "    'snap_WI': 'int8'\n",
    "}\n",
    "# Đọc một hàng để lấy danh sách cột evt_\n",
    "for col in pd.read_csv('processed_data.csv', nrows=1).columns:\n",
    "    if col.startswith('evt_'):\n",
    "        dtypes[col] = 'int8'\n",
    "\n",
    "# Chỉ lấy các cột cần thiết để giảm kích thước dữ liệu\n",
    "use_cols = ['item_id', 'store_id', 'sales', 'sell_price', 'date'] + \\\n",
    "           [col for col in pd.read_csv('processed_data.csv', nrows=1).columns \n",
    "            if col.startswith('evt_') or col in ['snap_CA', 'snap_TX', 'snap_WI']] + \\\n",
    "           ['sales_lag_7', 'sales_lag_14', 'sales_lag_28', 'rolling_mean_7', 'item_idx', 'store_idx']\n",
    "\n",
    "# Đọc dữ liệu theo chunks để giảm tải RAM\n",
    "chunk_size = 10000  # Đọc 100,000 hàng mỗi lần\n",
    "chunks = pd.read_csv('processed_data.csv', chunksize=chunk_size, dtype=dtypes, usecols=use_cols)\n",
    "\n",
    "# Gộp các chunks thành DataFrame\n",
    "df_chunks = []\n",
    "for chunk in chunks:\n",
    "    df_chunks.append(chunk)\n",
    "df = pd.concat(df_chunks, ignore_index=True)\n",
    "\n",
    "# Chia dữ liệu thành train và validation\n",
    "split = int(len(df) * 0.8)\n",
    "df_train, df_val = df.iloc[:split], df.iloc[split:]\n",
    "\n",
    "# Tối ưu bộ nhớ bằng cách giải phóng df sau khi tạo df_train và df_val\n",
    "df = None  # Giải phóng bộ nhớ\n",
    "\n",
    "# Tạo Dataset và DataLoader\n",
    "window_size = 14  # Giảm window_size từ 28 xuống 14 để giảm tải RAM\n",
    "batch_size = 32   # Giảm batch_size từ 64 xuống 32 để giảm tải RAM\n",
    "\n",
    "train_ds = M5MultiDataset(df_train, feature_cols, window_size=window_size)\n",
    "val_ds = M5MultiDataset(df_val, feature_cols, window_size=window_size)\n",
    "train_loader = DataLoader(train_ds, batch_size=batch_size, shuffle=True, num_workers=0)\n",
    "val_loader = DataLoader(val_ds, batch_size=batch_size, shuffle=False, num_workers=0)\n",
    "\n",
    "# Giải phóng bộ nhớ sau khi tạo DataLoader\n",
    "df_train, df_val = None, None  # Giải phóng bộ nhớ\n",
    "\n",
    "print('Recreated train_loader and val_loader with optimized memory usage')"
   ]
  },
  {
   "cell_type": "code",
   "execution_count": 5,
   "id": "8cb5c3d7",
   "metadata": {},
   "outputs": [],
   "source": [
    "# Cell 6: Khởi tạo mô hình, hàm mất mát, và optimizer\n",
    "device = torch.device('cuda' if torch.cuda.is_available() else 'cpu')\n",
    "model = LSTMEmbForecast(\n",
    "    n_items=num_items,\n",
    "    n_stores=num_stores,\n",
    "    embed_dim=16,\n",
    "    num_feats=len(feature_cols),\n",
    "    hidden_size=128\n",
    ").to(device)\n",
    "criterion = nn.MSELoss()\n",
    "optimizer = optim.Adam(model.parameters(), lr=1e-3, weight_decay=1e-5)  # Thêm L2 regularization\n",
    "scaler = GradScaler()\n"
   ]
  },
  {
   "cell_type": "code",
   "execution_count": 6,
   "id": "b7a9cb99",
   "metadata": {},
   "outputs": [],
   "source": [
    "# Cell 7: Hàm huấn luyện mô hình với early stopping\n",
    "def train_model(model, train_loader, val_loader, num_epochs, device):\n",
    "    best_val_loss = float('inf')\n",
    "    patience = 5\n",
    "    counter = 0\n",
    "    best_model_path = 'best_model.pth'\n",
    "\n",
    "    for epoch in range(num_epochs):\n",
    "        model.train()\n",
    "        total_loss = 0\n",
    "        for (X_num, X_item, X_store), y in train_loader:\n",
    "            Xn, Xi, Xs, y = X_num.to(device), X_item.to(device), X_store.to(device), y.to(device)\n",
    "            optimizer.zero_grad()\n",
    "            with autocast(device_type='cuda'):  # Sử dụng cú pháp rõ ràng cho PyTorch 2.6.0\n",
    "                preds = model(Xn, Xi, Xs)\n",
    "                loss = criterion(preds, y)\n",
    "            scaler.scale(loss).backward()\n",
    "            scaler.step(optimizer)\n",
    "            scaler.update()\n",
    "            total_loss += loss.item()\n",
    "        \n",
    "        # Đánh giá trên tập validation\n",
    "        model.eval()\n",
    "        val_loss = 0\n",
    "        predictions, actuals = [], []\n",
    "        with torch.no_grad():\n",
    "            for (Xn, Xi, Xs), y in val_loader:\n",
    "                Xn, Xi, Xs, y = Xn.to(device), Xi.to(device), Xs.to(device), y.to(device)\n",
    "                with autocast(device_type='cuda'):\n",
    "                    preds = model(Xn, Xi, Xs)\n",
    "                    loss = criterion(preds, y)\n",
    "                val_loss += loss.item()\n",
    "                predictions.extend(preds.cpu().numpy())\n",
    "                actuals.extend(y.cpu().numpy())\n",
    "        \n",
    "        # Tính RMSE và MAE\n",
    "        val_loss = val_loss / len(val_loader)\n",
    "        rmse = np.sqrt(mean_squared_error(actuals, predictions))\n",
    "        mae = mean_absolute_error(actuals, predictions)\n",
    "        print(f\"Epoch {epoch+1}/{num_epochs} - Train Loss: {total_loss/len(train_loader):.4f}, \"\n",
    "              f\"Val Loss: {val_loss:.4f}, RMSE: {rmse:.4f}, MAE: {mae:.4f}\")\n",
    "\n",
    "        # Early stopping\n",
    "        if val_loss < best_val_loss:\n",
    "            best_val_loss = val_loss\n",
    "            counter = 0\n",
    "            torch.save(model.state_dict(), best_model_path)\n",
    "            print(f\"Saved best model with Val Loss: {best_val_loss:.4f}\")\n",
    "        else:\n",
    "            counter += 1\n",
    "            print(f\"Early stopping counter: {counter}/{patience}\")\n",
    "        if counter >= patience:\n",
    "            print(f\"Early stopping triggered at epoch {epoch+1}\")\n",
    "            break\n",
    "\n",
    "    # Tải mô hình tốt nhất\n",
    "    model.load_state_dict(torch.load(best_model_path))\n",
    "    return model"
   ]
  },
  {
   "cell_type": "code",
   "execution_count": 7,
   "id": "14ecfb2e",
   "metadata": {},
   "outputs": [
    {
     "ename": "KeyboardInterrupt",
     "evalue": "",
     "output_type": "error",
     "traceback": [
      "\u001b[31m---------------------------------------------------------------------------\u001b[39m",
      "\u001b[31mKeyboardInterrupt\u001b[39m                         Traceback (most recent call last)",
      "\u001b[36mCell\u001b[39m\u001b[36m \u001b[39m\u001b[32mIn[7]\u001b[39m\u001b[32m, line 2\u001b[39m\n\u001b[32m      1\u001b[39m \u001b[38;5;66;03m# Cell 8: Huấn luyện mô hình\u001b[39;00m\n\u001b[32m----> \u001b[39m\u001b[32m2\u001b[39m model = \u001b[43mtrain_model\u001b[49m\u001b[43m(\u001b[49m\u001b[43mmodel\u001b[49m\u001b[43m,\u001b[49m\u001b[43m \u001b[49m\u001b[43mtrain_loader\u001b[49m\u001b[43m,\u001b[49m\u001b[43m \u001b[49m\u001b[43mval_loader\u001b[49m\u001b[43m,\u001b[49m\u001b[43m \u001b[49m\u001b[43mnum_epochs\u001b[49m\u001b[43m=\u001b[49m\u001b[32;43m20\u001b[39;49m\u001b[43m,\u001b[49m\u001b[43m \u001b[49m\u001b[43mdevice\u001b[49m\u001b[43m=\u001b[49m\u001b[43mdevice\u001b[49m\u001b[43m)\u001b[49m\n",
      "\u001b[36mCell\u001b[39m\u001b[36m \u001b[39m\u001b[32mIn[6]\u001b[39m\u001b[32m, line 11\u001b[39m, in \u001b[36mtrain_model\u001b[39m\u001b[34m(model, train_loader, val_loader, num_epochs, device)\u001b[39m\n\u001b[32m      9\u001b[39m model.train()\n\u001b[32m     10\u001b[39m total_loss = \u001b[32m0\u001b[39m\n\u001b[32m---> \u001b[39m\u001b[32m11\u001b[39m \u001b[43m\u001b[49m\u001b[38;5;28;43;01mfor\u001b[39;49;00m\u001b[43m \u001b[49m\u001b[43m(\u001b[49m\u001b[43mX_num\u001b[49m\u001b[43m,\u001b[49m\u001b[43m \u001b[49m\u001b[43mX_item\u001b[49m\u001b[43m,\u001b[49m\u001b[43m \u001b[49m\u001b[43mX_store\u001b[49m\u001b[43m)\u001b[49m\u001b[43m,\u001b[49m\u001b[43m \u001b[49m\u001b[43my\u001b[49m\u001b[43m \u001b[49m\u001b[38;5;129;43;01min\u001b[39;49;00m\u001b[43m \u001b[49m\u001b[43mtrain_loader\u001b[49m\u001b[43m:\u001b[49m\n\u001b[32m     12\u001b[39m \u001b[43m    \u001b[49m\u001b[43mXn\u001b[49m\u001b[43m,\u001b[49m\u001b[43m \u001b[49m\u001b[43mXi\u001b[49m\u001b[43m,\u001b[49m\u001b[43m \u001b[49m\u001b[43mXs\u001b[49m\u001b[43m,\u001b[49m\u001b[43m \u001b[49m\u001b[43my\u001b[49m\u001b[43m \u001b[49m\u001b[43m=\u001b[49m\u001b[43m \u001b[49m\u001b[43mX_num\u001b[49m\u001b[43m.\u001b[49m\u001b[43mto\u001b[49m\u001b[43m(\u001b[49m\u001b[43mdevice\u001b[49m\u001b[43m)\u001b[49m\u001b[43m,\u001b[49m\u001b[43m \u001b[49m\u001b[43mX_item\u001b[49m\u001b[43m.\u001b[49m\u001b[43mto\u001b[49m\u001b[43m(\u001b[49m\u001b[43mdevice\u001b[49m\u001b[43m)\u001b[49m\u001b[43m,\u001b[49m\u001b[43m \u001b[49m\u001b[43mX_store\u001b[49m\u001b[43m.\u001b[49m\u001b[43mto\u001b[49m\u001b[43m(\u001b[49m\u001b[43mdevice\u001b[49m\u001b[43m)\u001b[49m\u001b[43m,\u001b[49m\u001b[43m \u001b[49m\u001b[43my\u001b[49m\u001b[43m.\u001b[49m\u001b[43mto\u001b[49m\u001b[43m(\u001b[49m\u001b[43mdevice\u001b[49m\u001b[43m)\u001b[49m\n\u001b[32m     13\u001b[39m \u001b[43m    \u001b[49m\u001b[43moptimizer\u001b[49m\u001b[43m.\u001b[49m\u001b[43mzero_grad\u001b[49m\u001b[43m(\u001b[49m\u001b[43m)\u001b[49m\n",
      "\u001b[36mFile \u001b[39m\u001b[32mc:\\Users\\Ho Hau\\Downloads\\M5\\venv\\Lib\\site-packages\\torch\\utils\\data\\dataloader.py:708\u001b[39m, in \u001b[36m_BaseDataLoaderIter.__next__\u001b[39m\u001b[34m(self)\u001b[39m\n\u001b[32m    705\u001b[39m \u001b[38;5;28;01mif\u001b[39;00m \u001b[38;5;28mself\u001b[39m._sampler_iter \u001b[38;5;129;01mis\u001b[39;00m \u001b[38;5;28;01mNone\u001b[39;00m:\n\u001b[32m    706\u001b[39m     \u001b[38;5;66;03m# TODO(https://github.com/pytorch/pytorch/issues/76750)\u001b[39;00m\n\u001b[32m    707\u001b[39m     \u001b[38;5;28mself\u001b[39m._reset()  \u001b[38;5;66;03m# type: ignore[call-arg]\u001b[39;00m\n\u001b[32m--> \u001b[39m\u001b[32m708\u001b[39m data = \u001b[38;5;28;43mself\u001b[39;49m\u001b[43m.\u001b[49m\u001b[43m_next_data\u001b[49m\u001b[43m(\u001b[49m\u001b[43m)\u001b[49m\n\u001b[32m    709\u001b[39m \u001b[38;5;28mself\u001b[39m._num_yielded += \u001b[32m1\u001b[39m\n\u001b[32m    710\u001b[39m \u001b[38;5;28;01mif\u001b[39;00m (\n\u001b[32m    711\u001b[39m     \u001b[38;5;28mself\u001b[39m._dataset_kind == _DatasetKind.Iterable\n\u001b[32m    712\u001b[39m     \u001b[38;5;129;01mand\u001b[39;00m \u001b[38;5;28mself\u001b[39m._IterableDataset_len_called \u001b[38;5;129;01mis\u001b[39;00m \u001b[38;5;129;01mnot\u001b[39;00m \u001b[38;5;28;01mNone\u001b[39;00m\n\u001b[32m    713\u001b[39m     \u001b[38;5;129;01mand\u001b[39;00m \u001b[38;5;28mself\u001b[39m._num_yielded > \u001b[38;5;28mself\u001b[39m._IterableDataset_len_called\n\u001b[32m    714\u001b[39m ):\n",
      "\u001b[36mFile \u001b[39m\u001b[32mc:\\Users\\Ho Hau\\Downloads\\M5\\venv\\Lib\\site-packages\\torch\\utils\\data\\dataloader.py:764\u001b[39m, in \u001b[36m_SingleProcessDataLoaderIter._next_data\u001b[39m\u001b[34m(self)\u001b[39m\n\u001b[32m    762\u001b[39m \u001b[38;5;28;01mdef\u001b[39;00m\u001b[38;5;250m \u001b[39m\u001b[34m_next_data\u001b[39m(\u001b[38;5;28mself\u001b[39m):\n\u001b[32m    763\u001b[39m     index = \u001b[38;5;28mself\u001b[39m._next_index()  \u001b[38;5;66;03m# may raise StopIteration\u001b[39;00m\n\u001b[32m--> \u001b[39m\u001b[32m764\u001b[39m     data = \u001b[38;5;28;43mself\u001b[39;49m\u001b[43m.\u001b[49m\u001b[43m_dataset_fetcher\u001b[49m\u001b[43m.\u001b[49m\u001b[43mfetch\u001b[49m\u001b[43m(\u001b[49m\u001b[43mindex\u001b[49m\u001b[43m)\u001b[49m  \u001b[38;5;66;03m# may raise StopIteration\u001b[39;00m\n\u001b[32m    765\u001b[39m     \u001b[38;5;28;01mif\u001b[39;00m \u001b[38;5;28mself\u001b[39m._pin_memory:\n\u001b[32m    766\u001b[39m         data = _utils.pin_memory.pin_memory(data, \u001b[38;5;28mself\u001b[39m._pin_memory_device)\n",
      "\u001b[36mFile \u001b[39m\u001b[32mc:\\Users\\Ho Hau\\Downloads\\M5\\venv\\Lib\\site-packages\\torch\\utils\\data\\_utils\\fetch.py:52\u001b[39m, in \u001b[36m_MapDatasetFetcher.fetch\u001b[39m\u001b[34m(self, possibly_batched_index)\u001b[39m\n\u001b[32m     50\u001b[39m         data = \u001b[38;5;28mself\u001b[39m.dataset.__getitems__(possibly_batched_index)\n\u001b[32m     51\u001b[39m     \u001b[38;5;28;01melse\u001b[39;00m:\n\u001b[32m---> \u001b[39m\u001b[32m52\u001b[39m         data = [\u001b[38;5;28;43mself\u001b[39;49m\u001b[43m.\u001b[49m\u001b[43mdataset\u001b[49m\u001b[43m[\u001b[49m\u001b[43midx\u001b[49m\u001b[43m]\u001b[49m \u001b[38;5;28;01mfor\u001b[39;00m idx \u001b[38;5;129;01min\u001b[39;00m possibly_batched_index]\n\u001b[32m     53\u001b[39m \u001b[38;5;28;01melse\u001b[39;00m:\n\u001b[32m     54\u001b[39m     data = \u001b[38;5;28mself\u001b[39m.dataset[possibly_batched_index]\n",
      "\u001b[36mCell\u001b[39m\u001b[36m \u001b[39m\u001b[32mIn[2]\u001b[39m\u001b[32m, line 18\u001b[39m, in \u001b[36mM5MultiDataset.__getitem__\u001b[39m\u001b[34m(self, idx)\u001b[39m\n\u001b[32m     15\u001b[39m store_idx = slice_[\u001b[33m'\u001b[39m\u001b[33mstore_idx\u001b[39m\u001b[33m'\u001b[39m].values.astype(\u001b[33m'\u001b[39m\u001b[33mint64\u001b[39m\u001b[33m'\u001b[39m)  \u001b[38;5;66;03m# (win,)\u001b[39;00m\n\u001b[32m     16\u001b[39m y = \u001b[38;5;28mself\u001b[39m.data[\u001b[33m'\u001b[39m\u001b[33msales\u001b[39m\u001b[33m'\u001b[39m].iloc[idx+\u001b[38;5;28mself\u001b[39m.win].astype(\u001b[33m'\u001b[39m\u001b[33mfloat32\u001b[39m\u001b[33m'\u001b[39m)\n\u001b[32m     17\u001b[39m \u001b[38;5;28;01mreturn\u001b[39;00m (\n\u001b[32m---> \u001b[39m\u001b[32m18\u001b[39m     \u001b[43mtorch\u001b[49m\u001b[43m.\u001b[49m\u001b[43mtensor\u001b[49m\u001b[43m(\u001b[49m\u001b[43mX_num\u001b[49m\u001b[43m)\u001b[49m,  \u001b[38;5;66;03m# (win, num_features)\u001b[39;00m\n\u001b[32m     19\u001b[39m     torch.tensor(item_idx),  \u001b[38;5;66;03m# (win,)\u001b[39;00m\n\u001b[32m     20\u001b[39m     torch.tensor(store_idx)  \u001b[38;5;66;03m# (win,)\u001b[39;00m\n\u001b[32m     21\u001b[39m ), torch.tensor(y)\n",
      "\u001b[31mKeyboardInterrupt\u001b[39m: "
     ]
    }
   ],
   "source": [
    "# Cell 8: Huấn luyện mô hình\n",
    "model = train_model(model, train_loader, val_loader, num_epochs=20, device=device)"
   ]
  },
  {
   "cell_type": "code",
   "execution_count": null,
   "id": "010a8631",
   "metadata": {},
   "outputs": [
    {
     "name": "stdout",
     "output_type": "stream",
     "text": [
      "Final model saved to 'lstm_forecast2.pth'\n",
      "Best model saved to 'best_model.pth'\n"
     ]
    }
   ],
   "source": [
    "# Cell 9: Lưu mô hình đã huấn luyện\n",
    "torch.save(model.state_dict(), 'lstm_forecast2.pth')\n",
    "print(\"Final model saved to 'lstm_forecast2.pth'\")\n",
    "print(\"Best model saved to 'best_model.pth'\")"
   ]
  },
  {
   "cell_type": "code",
   "execution_count": null,
   "id": "072bb5d1",
   "metadata": {},
   "outputs": [
    {
     "data": {
      "image/png": "[encoded data removed]",
      "text/plain": [
       "<Figure size 640x480 with 1 Axes>"
      ]
     },
     "metadata": {},
     "output_type": "display_data"
    }
   ],
   "source": [
    "import matplotlib.pyplot as plt\n",
    "plt.hist(df_val['sales'], bins=50)\n",
    "plt.title('Validation Sales Distribution')\n",
    "plt.show()"
   ]
  }
 ],
 "metadata": {
  "kernelspec": {
   "display_name": "venv",
   "language": "python",
   "name": "python3"
  },
  "language_info": {
   "codemirror_mode": {
    "name": "ipython",
    "version": 3
   },
   "file_extension": ".py",
   "mimetype": "text/x-python",
   "name": "python",
   "nbconvert_exporter": "python",
   "pygments_lexer": "ipython3",
   "version": "3.12.0"
  }
 },
 "nbformat": 4,
 "nbformat_minor": 5
}
