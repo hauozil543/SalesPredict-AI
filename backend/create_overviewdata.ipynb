{
 "cells": [
  {
   "cell_type": "code",
   "execution_count": 5,
   "id": "fd1897a7",
   "metadata": {},
   "outputs": [],
   "source": [
    "import pandas as pd\n",
    "import sqlite3\n",
    "import numpy as np"
   ]
  },
  {
   "cell_type": "code",
   "execution_count": 2,
   "id": "57e33f55",
   "metadata": {},
   "outputs": [],
   "source": [
    "# Hàm giảm bộ nhớ (dùng cho pandas trước khi chuyển sang CuPy)\n",
    "def reduce_mem_usage(df, verbose=True):\n",
    "    numerics = ['int16', 'int32', 'int64', 'float16', 'float32', 'float64']\n",
    "    start_mem = df.memory_usage().sum() / 1024**2    \n",
    "    for col in df.columns:\n",
    "        col_type = df[col].dtypes\n",
    "        if col_type in numerics: \n",
    "            c_min = df[col].min()\n",
    "            c_max = df[col].max()\n",
    "            if str(col_type)[:3] == 'int':\n",
    "                if c_min > np.iinfo(np.int8).min and c_max < np.iinfo(np.int8).max:\n",
    "                    df[col] = df[col].astype(np.int8)\n",
    "                elif c_min > np.iinfo(np.int16).min and c_max < np.iinfo(np.int16).max:\n",
    "                    df[col] = df[col].astype(np.int16)\n",
    "                elif c_min > np.iinfo(np.int32).min and c_max < np.iinfo(np.int32).max:\n",
    "                    df[col] = df[col].astype(np.int32)\n",
    "                elif c_min > np.iinfo(np.int64).min and c_max < np.iinfo(np.int64).max:\n",
    "                    df[col] = df[col].astype(np.int64)  \n",
    "            else:\n",
    "                if c_min > np.finfo(np.float16).min and c_max < np.finfo(np.float16).max:\n",
    "                    df[col] = df[col].astype(np.float16)\n",
    "                elif c_min > np.finfo(np.float32).min and c_max < np.finfo(np.float32).max:\n",
    "                    df[col] = df[col].astype(np.float32)\n",
    "                else:\n",
    "                    df[col] = df[col].astype(np.float64)    \n",
    "    end_mem = df.memory_usage().sum() / 1024**2\n",
    "    if verbose: print('Mem. usage decreased to {:5.2f} Mb ({:.1f}% reduction)'.format(end_mem, 100 * (start_mem - end_mem) / start_mem))\n",
    "    return df"
   ]
  },
  {
   "cell_type": "code",
   "execution_count": 3,
   "id": "f4b94a24",
   "metadata": {},
   "outputs": [],
   "source": [
    "# Đường dẫn tới file dữ liệu M5\n",
    "SALES_PATH = 'C:/Users/Ho Hau/Downloads/M5/data/raw/sales_train_validation.csv'\n",
    "CALENDAR_PATH = 'C:/Users/Ho Hau/Downloads/M5/data/raw/calendar.csv'\n",
    "PRICES_PATH = 'C:/Users/Ho Hau/Downloads/M5/data/raw/sell_prices.csv'\n",
    "OVERVIEW_DB_PATH = 'overview_data.db'"
   ]
  },
  {
   "cell_type": "code",
   "execution_count": 4,
   "id": "9b6b6509",
   "metadata": {},
   "outputs": [],
   "source": [
    "# Đọc một mẫu nhỏ của sales_df để lấy danh sách cột\n",
    "sample_sales_df = pd.read_csv(SALES_PATH, nrows=1)\n",
    "day_cols = [col for col in sample_sales_df.columns if col.startswith('d')]\n",
    "sample_sales_df = None  # Giải phóng bộ nhớ"
   ]
  },
  {
   "cell_type": "code",
   "execution_count": 5,
   "id": "85ffc2cc",
   "metadata": {},
   "outputs": [
    {
     "name": "stdout",
     "output_type": "stream",
     "text": [
      "Mem. usage decreased to  0.12 Mb (41.9% reduction)\n",
      "Mem. usage decreased to 130.48 Mb (37.5% reduction)\n"
     ]
    }
   ],
   "source": [
    "# Đọc dữ liệu chung và giảm bộ nhớ\n",
    "calendar_df = pd.read_csv(CALENDAR_PATH)\n",
    "prices_df = pd.read_csv(PRICES_PATH)\n",
    "calendar_df = reduce_mem_usage(calendar_df)\n",
    "prices_df = reduce_mem_usage(prices_df)"
   ]
  },
  {
   "cell_type": "code",
   "execution_count": 6,
   "id": "44e018f5",
   "metadata": {},
   "outputs": [],
   "source": [
    "# Kết nối SQLite\n",
    "conn = sqlite3.connect(OVERVIEW_DB_PATH)\n",
    "c = conn.cursor()"
   ]
  },
  {
   "cell_type": "code",
   "execution_count": 7,
   "id": "043cc644",
   "metadata": {},
   "outputs": [
    {
     "data": {
      "text/plain": [
       "6841121"
      ]
     },
     "execution_count": 7,
     "metadata": {},
     "output_type": "execute_result"
    }
   ],
   "source": [
    "# Tạo bảng sales_raw\n",
    "c.execute('''\n",
    "    CREATE TABLE IF NOT EXISTS sales_raw (\n",
    "        id TEXT,\n",
    "        item_id TEXT,\n",
    "        dept_id TEXT,\n",
    "        cat_id TEXT,\n",
    "        store_id TEXT,\n",
    "        state_id TEXT,\n",
    "        d TEXT,\n",
    "        sales REAL,\n",
    "        date TEXT,\n",
    "        wm_yr_wk INTEGER,\n",
    "        sell_price REAL\n",
    "    )\n",
    "''')\n",
    "\n",
    "# Tạo bảng calendar và prices\n",
    "calendar_df[['d', 'date', 'wm_yr_wk']].to_sql('calendar', conn, if_exists='replace', index=False)\n",
    "prices_df.to_sql('prices', conn, if_exists='replace', index=False)"
   ]
  },
  {
   "cell_type": "code",
   "execution_count": 8,
   "id": "d31ac5d5",
   "metadata": {},
   "outputs": [],
   "source": [
    "# Lấy danh sách các khu vực (store_id) duy nhất\n",
    "sales_df = pd.read_csv(SALES_PATH, usecols=['store_id'])\n",
    "unique_store_ids = sales_df['store_id'].unique()\n",
    "sales_df = None  # Giải phóng bộ nhớ"
   ]
  },
  {
   "cell_type": "code",
   "execution_count": 9,
   "id": "6ba323c5",
   "metadata": {},
   "outputs": [
    {
     "name": "stdout",
     "output_type": "stream",
     "text": [
      "Xử lý khu vực: CA_1\n",
      "Mem. usage decreased to  6.52 Mb (85.4% reduction)\n",
      "Mem. usage decreased to 322.63 Mb (0.0% reduction)\n",
      "Mem. usage decreased to 378.25 Mb (0.0% reduction)\n",
      "Mem. usage decreased to 389.38 Mb (0.0% reduction)\n",
      "Đã lưu dữ liệu cho CA_1 (5832737 hàng)\n",
      "Xử lý khu vực: CA_2\n",
      "Mem. usage decreased to  5.82 Mb (87.0% reduction)\n",
      "Mem. usage decreased to 322.63 Mb (0.0% reduction)\n",
      "Mem. usage decreased to 378.25 Mb (0.0% reduction)\n",
      "Mem. usage decreased to 389.38 Mb (0.0% reduction)\n",
      "Đã lưu dữ liệu cho CA_2 (5832737 hàng)\n",
      "Xử lý khu vực: CA_3\n",
      "Mem. usage decreased to  8.89 Mb (80.1% reduction)\n",
      "Mem. usage decreased to 322.63 Mb (0.0% reduction)\n",
      "Mem. usage decreased to 378.25 Mb (0.0% reduction)\n",
      "Mem. usage decreased to 389.38 Mb (0.0% reduction)\n",
      "Đã lưu dữ liệu cho CA_3 (5832737 hàng)\n",
      "Xử lý khu vực: CA_4\n",
      "Mem. usage decreased to  5.74 Mb (87.1% reduction)\n",
      "Mem. usage decreased to 322.63 Mb (0.0% reduction)\n",
      "Mem. usage decreased to 378.25 Mb (0.0% reduction)\n",
      "Mem. usage decreased to 389.38 Mb (0.0% reduction)\n",
      "Đã lưu dữ liệu cho CA_4 (5832737 hàng)\n",
      "Xử lý khu vực: TX_1\n",
      "Mem. usage decreased to  6.12 Mb (86.3% reduction)\n",
      "Mem. usage decreased to 322.63 Mb (0.0% reduction)\n",
      "Mem. usage decreased to 378.25 Mb (0.0% reduction)\n",
      "Mem. usage decreased to 389.38 Mb (0.0% reduction)\n",
      "Đã lưu dữ liệu cho TX_1 (5832737 hàng)\n",
      "Xử lý khu vực: TX_2\n",
      "Mem. usage decreased to  7.13 Mb (84.0% reduction)\n",
      "Mem. usage decreased to 322.63 Mb (0.0% reduction)\n",
      "Mem. usage decreased to 378.25 Mb (0.0% reduction)\n",
      "Mem. usage decreased to 389.38 Mb (0.0% reduction)\n",
      "Đã lưu dữ liệu cho TX_2 (5832737 hàng)\n",
      "Xử lý khu vực: TX_3\n",
      "Mem. usage decreased to  6.39 Mb (85.7% reduction)\n",
      "Mem. usage decreased to 322.63 Mb (0.0% reduction)\n",
      "Mem. usage decreased to 378.25 Mb (0.0% reduction)\n",
      "Mem. usage decreased to 389.38 Mb (0.0% reduction)\n",
      "Đã lưu dữ liệu cho TX_3 (5832737 hàng)\n",
      "Xử lý khu vực: WI_1\n",
      "Mem. usage decreased to  5.75 Mb (87.1% reduction)\n",
      "Mem. usage decreased to 322.63 Mb (0.0% reduction)\n",
      "Mem. usage decreased to 378.25 Mb (0.0% reduction)\n",
      "Mem. usage decreased to 389.38 Mb (0.0% reduction)\n",
      "Đã lưu dữ liệu cho WI_1 (5832737 hàng)\n",
      "Xử lý khu vực: WI_2\n",
      "Mem. usage decreased to  6.18 Mb (86.2% reduction)\n",
      "Mem. usage decreased to 322.63 Mb (0.0% reduction)\n",
      "Mem. usage decreased to 378.25 Mb (0.0% reduction)\n",
      "Mem. usage decreased to 389.38 Mb (0.0% reduction)\n",
      "Đã lưu dữ liệu cho WI_2 (5832737 hàng)\n",
      "Xử lý khu vực: WI_3\n",
      "Mem. usage decreased to  6.56 Mb (85.3% reduction)\n",
      "Mem. usage decreased to 322.63 Mb (0.0% reduction)\n",
      "Mem. usage decreased to 378.25 Mb (0.0% reduction)\n",
      "Mem. usage decreased to 389.38 Mb (0.0% reduction)\n",
      "Đã lưu dữ liệu cho WI_3 (5832737 hàng)\n"
     ]
    }
   ],
   "source": [
    "# Xử lý từng khu vực\n",
    "id_cols = ['id', 'item_id', 'dept_id', 'cat_id', 'store_id', 'state_id']\n",
    "for store_id in unique_store_ids:\n",
    "    print(f\"Xử lý khu vực: {store_id}\")\n",
    "    \n",
    "    # Đọc lại dữ liệu cho khu vực cụ thể (chỉ lấy hàng có store_id này)\n",
    "    chunk = pd.read_csv(SALES_PATH, usecols=id_cols + day_cols)\n",
    "    chunk = chunk[chunk['store_id'] == store_id]\n",
    "    chunk = reduce_mem_usage(chunk)\n",
    "    \n",
    "    # Melt dữ liệu cho khu vực này\n",
    "    sales_melted_chunk = chunk.melt(id_vars=id_cols, var_name='d', value_name='sales')\n",
    "    sales_melted_chunk = reduce_mem_usage(sales_melted_chunk)\n",
    "    \n",
    "    # Gộp với calendar_df\n",
    "    sales_with_date_chunk = sales_melted_chunk.merge(calendar_df[['d', 'date', 'wm_yr_wk']], on='d', how='left')\n",
    "    sales_with_date_chunk = reduce_mem_usage(sales_with_date_chunk)\n",
    "    \n",
    "    # Gộp với prices_df\n",
    "    sales_final_chunk = sales_with_date_chunk.merge(prices_df[['item_id', 'store_id', 'wm_yr_wk', 'sell_price']], \n",
    "                                                   on=['item_id', 'store_id', 'wm_yr_wk'], \n",
    "                                                   how='left')\n",
    "    sales_final_chunk = reduce_mem_usage(sales_final_chunk)\n",
    "    \n",
    "    # Lưu vào SQLite\n",
    "    sales_final_chunk.to_sql('sales_raw', conn, if_exists='append', index=False)\n",
    "    print(f\"Đã lưu dữ liệu cho {store_id} ({len(sales_final_chunk)} hàng)\")\n",
    "    \n",
    "    # Giải phóng bộ nhớ\n",
    "    del chunk, sales_melted_chunk, sales_with_date_chunk, sales_final_chunk\n",
    "    import gc\n",
    "    gc.collect()"
   ]
  },
  {
   "cell_type": "code",
   "execution_count": 10,
   "id": "6764c305",
   "metadata": {},
   "outputs": [
    {
     "name": "stdout",
     "output_type": "stream",
     "text": [
      "Đã tạo và điền dữ liệu thô vào overview_data.db theo từng khu vực!\n"
     ]
    }
   ],
   "source": [
    "# Lưu và đóng kết nối\n",
    "conn.commit()\n",
    "conn.close()\n",
    "\n",
    "print(\"Đã tạo và điền dữ liệu thô vào overview_data.db theo từng khu vực!\")"
   ]
  },
  {
   "cell_type": "code",
   "execution_count": 4,
   "id": "aded338c",
   "metadata": {},
   "outputs": [
    {
     "name": "stdout",
     "output_type": "stream",
     "text": [
      "Danh sách các bảng:\n",
      "- sales_raw\n",
      "- calendar\n",
      "- prices\n",
      "Số lượng hàng trong bảng sales_raw: 58327370\n",
      "Số lượng hàng trong bảng calendar: 1969\n",
      "Số lượng hàng trong bảng prices: 6841121\n",
      "\n",
      "Dữ liệu mẫu từ bảng sales_raw (5 hàng đầu):\n",
      "('HOBBIES_1_001_CA_1_validation', 'HOBBIES_1_001', 'HOBBIES_1', 'HOBBIES', 'CA_1', 'CA', 'd_1', 0.0, '2011-01-29', 11101, None)\n",
      "('HOBBIES_1_002_CA_1_validation', 'HOBBIES_1_002', 'HOBBIES_1', 'HOBBIES', 'CA_1', 'CA', 'd_1', 0.0, '2011-01-29', 11101, None)\n",
      "('HOBBIES_1_003_CA_1_validation', 'HOBBIES_1_003', 'HOBBIES_1', 'HOBBIES', 'CA_1', 'CA', 'd_1', 0.0, '2011-01-29', 11101, None)\n",
      "('HOBBIES_1_004_CA_1_validation', 'HOBBIES_1_004', 'HOBBIES_1', 'HOBBIES', 'CA_1', 'CA', 'd_1', 0.0, '2011-01-29', 11101, None)\n",
      "('HOBBIES_1_005_CA_1_validation', 'HOBBIES_1_005', 'HOBBIES_1', 'HOBBIES', 'CA_1', 'CA', 'd_1', 0.0, '2011-01-29', 11101, None)\n",
      "\n",
      "Dữ liệu mẫu từ bảng calendar (5 hàng đầu):\n",
      "('d_1', '2011-01-29', 11101)\n",
      "('d_2', '2011-01-30', 11101)\n",
      "('d_3', '2011-01-31', 11101)\n",
      "('d_4', '2011-02-01', 11101)\n",
      "('d_5', '2011-02-02', 11101)\n",
      "\n",
      "Dữ liệu mẫu từ bảng prices (5 hàng đầu):\n",
      "('CA_1', 'HOBBIES_1_001', 11325, 9.578125)\n",
      "('CA_1', 'HOBBIES_1_001', 11326, 9.578125)\n",
      "('CA_1', 'HOBBIES_1_001', 11327, 8.2578125)\n",
      "('CA_1', 'HOBBIES_1_001', 11328, 8.2578125)\n",
      "('CA_1', 'HOBBIES_1_001', 11329, 8.2578125)\n"
     ]
    }
   ],
   "source": [
    "OVERVIEW_DB_PATH = 'overview_data.db'\n",
    "# Kết nối đến cơ sở dữ liệu\n",
    "conn = sqlite3.connect(OVERVIEW_DB_PATH)\n",
    "c = conn.cursor()\n",
    "\n",
    "# Kiểm tra các bảng có trong cơ sở dữ liệu\n",
    "print(\"Danh sách các bảng:\")\n",
    "c.execute(\"SELECT name FROM sqlite_master WHERE type='table';\")\n",
    "tables = c.fetchall()\n",
    "for table in tables:\n",
    "    print(f\"- {table[0]}\")\n",
    "\n",
    "# Kiểm tra số lượng hàng trong từng bảng\n",
    "for table in ['sales_raw', 'calendar', 'prices']:\n",
    "    c.execute(f\"SELECT COUNT(*) FROM {table}\")\n",
    "    count = c.fetchone()[0]\n",
    "    print(f\"Số lượng hàng trong bảng {table}: {count}\")\n",
    "\n",
    "# Kiểm tra dữ liệu mẫu từ từng bảng\n",
    "print(\"\\nDữ liệu mẫu từ bảng sales_raw (5 hàng đầu):\")\n",
    "c.execute(\"SELECT * FROM sales_raw LIMIT 5\")\n",
    "rows = c.fetchall()\n",
    "for row in rows:\n",
    "    print(row)\n",
    "\n",
    "print(\"\\nDữ liệu mẫu từ bảng calendar (5 hàng đầu):\")\n",
    "c.execute(\"SELECT * FROM calendar LIMIT 5\")\n",
    "rows = c.fetchall()\n",
    "for row in rows:\n",
    "    print(row)\n",
    "\n",
    "print(\"\\nDữ liệu mẫu từ bảng prices (5 hàng đầu):\")\n",
    "c.execute(\"SELECT * FROM prices LIMIT 5\")\n",
    "rows = c.fetchall()\n",
    "for row in rows:\n",
    "    print(row)\n",
    "\n",
    "# Đóng kết nối\n",
    "conn.close()"
   ]
  },
  {
   "cell_type": "code",
   "execution_count": 6,
   "id": "aefed3b3",
   "metadata": {},
   "outputs": [
    {
     "name": "stdout",
     "output_type": "stream",
     "text": [
      "Kiểu dữ liệu của các cột trong bảng sales_raw:\n",
      "- id: TEXT\n",
      "- item_id: TEXT\n",
      "- dept_id: TEXT\n",
      "- cat_id: TEXT\n",
      "- store_id: TEXT\n",
      "- state_id: TEXT\n",
      "- d: TEXT\n",
      "- sales: REAL\n",
      "- date: TEXT\n",
      "- wm_yr_wk: INTEGER\n",
      "- sell_price: REAL\n",
      "\n",
      "Kiểu dữ liệu của các cột trong bảng calendar:\n",
      "- d: TEXT\n",
      "- date: TEXT\n",
      "- wm_yr_wk: INTEGER\n",
      "\n",
      "Kiểu dữ liệu của các cột trong bảng prices:\n",
      "- store_id: TEXT\n",
      "- item_id: TEXT\n",
      "- wm_yr_wk: INTEGER\n",
      "- sell_price: REAL\n",
      "\n"
     ]
    }
   ],
   "source": [
    "import sqlite3\n",
    "OVERVIEW_DB_PATH = 'overview_data.db'\n",
    "# Kết nối đến cơ sở dữ liệu SQLite\n",
    "conn = sqlite3.connect(OVERVIEW_DB_PATH)\n",
    "c = conn.cursor()\n",
    "\n",
    "# Hàm kiểm tra kiểu dữ liệu của các cột trong bảng\n",
    "def check_column_types(table_name):\n",
    "    print(f\"Kiểu dữ liệu của các cột trong bảng {table_name}:\")\n",
    "    c.execute(f\"PRAGMA table_info({table_name});\")\n",
    "    columns = c.fetchall()\n",
    "    for column in columns:\n",
    "        print(f\"- {column[1]}: {column[2]}\")  # column[1] là tên cột, column[2] là kiểu dữ liệu\n",
    "    print()\n",
    "\n",
    "# Kiểm tra kiểu dữ liệu của các bảng\n",
    "for table in ['sales_raw', 'calendar', 'prices']:\n",
    "    check_column_types(table)\n",
    "\n",
    "# Đóng kết nối\n",
    "conn.close()"
   ]
  }
 ],
 "metadata": {
  "kernelspec": {
   "display_name": "venv",
   "language": "python",
   "name": "python3"
  },
  "language_info": {
   "codemirror_mode": {
    "name": "ipython",
    "version": 3
   },
   "file_extension": ".py",
   "mimetype": "text/x-python",
   "name": "python",
   "nbconvert_exporter": "python",
   "pygments_lexer": "ipython3",
   "version": "3.12.0"
  }
 },
 "nbformat": 4,
 "nbformat_minor": 5
}
